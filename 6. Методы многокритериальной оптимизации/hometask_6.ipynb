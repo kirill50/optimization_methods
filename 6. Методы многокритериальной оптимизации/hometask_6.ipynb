{
 "cells": [
  {
   "cell_type": "markdown",
   "metadata": {},
   "source": [
    "Для выполнения работ P_1, P_2, P_3 сельскохозяйственное предприятие может приобрести тракторы марок А и B стоимостью <br> соответственно c_1 и c_2 ден. ед. каждый. С использованием новой техники необходимо выполнить не менее b_1 условных единиц работы P_1 не менее b_2 условных единиц работы P_2 и не менее b_3 условных единиц работы P_3. За рассматриваемый промежуток времени с использованием трактора марки A можно выполнить a_11 условных единиц работы P_1, a_21 условных единиц работы P_2 или a_31 условных единиц работы P_3; <br> с использованием трактора марки Б – a_12 условных единиц работы P_1, a_22 условных единиц работы P_2 или a_23 условных единиц работы P_3.\n",
    "\n",
    "Требуется:\n",
    "\n",
    "Составить экономико-математическую модель, позволяющую найти такой вариант приобретения тракторов той или другой марки, при котором будут выполнены все необходимые работы, а затраты на новую технику будут минимальны"
   ]
  },
  {
   "cell_type": "markdown",
   "metadata": {},
   "source": [
    "Пользуясь методом ветвей и границ, найти оптимальный вариант приобретения тракторов.\n",
    "\n",
    "$b_1$ = 20, $b_2$ = 190, $b_3$ = 88<br>\n",
    "$a_{11}$ = 4, $a_{21}$ = 19, $a_{31}$=4<br>\n",
    "$a_{12}$ = 1, $a_{22}$ = 15, $a_{32}$ = 15<br>\n",
    "$c_1$= 3, $c_2$ = 5"
   ]
  },
  {
   "cell_type": "markdown",
   "metadata": {},
   "source": [
    "## Целевая функция"
   ]
  },
  {
   "cell_type": "markdown",
   "metadata": {},
   "source": [
    "3$x_1$ + 5$x_2$ -> min <br>\n",
    "\n",
    "**Ограничения**\n",
    "<br>\n",
    "4$x_1$ + 1$x_2$ >= 20 <br>\n",
    "19$x_1$ + 15$x_2$ >= 190 <br>\n",
    "4$x_1$ + 15$x_2$ >= 88 <br>"
   ]
  },
  {
   "cell_type": "markdown",
   "metadata": {},
   "source": [
    "Запишем функцию Лагранжа:<br>\n",
    "<br>\n",
    "$L(n_1,n_2,\\lambda_1,\\lambda_2) = 3x_1+5x_2 + \\lambda_1(4x_1+1x_2-20) + \\lambda_2(19x_1+15x_2-190) + \\lambda_3(4x_1+15x_2-88) $<br>\n",
    "<br>\n",
    "Запишем уравнения для частных производных функции Лагранжа:<br>\n",
    "<br>\n",
    "$\\frac{\\delta{L(x_1,x_2,\\lambda_1,\\lambda_2, \\lambda_3 )}}{\\delta{x_1}} = 3 + 4\\lambda_1 + 19\\lambda_2 + 4\\lambda_3 = 0$<br>\n",
    "$\\frac{\\delta{L(x_1,x_2,\\lambda_1,\\lambda_2), \\lambda_3}}{\\delta{x_2}} = 5 + \\lambda_1 + 15\\lambda_2 + 15\\lambda_3 = 0$<br>\n",
    "$\\frac{\\delta{L(x_1,x_2,\\lambda_1,\\lambda_2, \\lambda_3)}}{\\delta{\\lambda_1}} = 4x_1+x_2-20 = 0$<br>\n",
    "$\\frac{\\delta{L(x_1,x_2,\\lambda_1,\\lambda_2, \\lambda_3)}}{\\delta{\\lambda_2}} = 19x_1+15x_2-190 = 0$<br>\n",
    "$\\frac{\\delta{L(x_1,x_2,\\lambda_1,\\lambda_2, \\lambda_3)}}{\\delta{\\lambda_3}} = 4x_1+15x_2-88 = 0$<br>"
   ]
  },
  {
   "cell_type": "markdown",
   "metadata": {},
   "source": [
    "**не понял как это можно решить? \n",
    "если я правильно понял, то мы должны решить систему из 3х уравнений**<br>\n",
    "$\\frac{\\delta{L(x_1,x_2,\\lambda_1,\\lambda_2, \\lambda_3)}}{\\delta{\\lambda_1}} = 4x_1+x_2-20 = 0$<br>\n",
    "$\\frac{\\delta{L(x_1,x_2,\\lambda_1,\\lambda_2, \\lambda_3)}}{\\delta{\\lambda_2}} = 19x_1+15x_2-190 = 0$<br>\n",
    "$\\frac{\\delta{L(x_1,x_2,\\lambda_1,\\lambda_2, \\lambda_3)}}{\\delta{\\lambda_3}} = 4x_1+15x_2-88 = 0$<br>"
   ]
  },
  {
   "cell_type": "code",
   "execution_count": null,
   "metadata": {},
   "outputs": [],
   "source": []
  }
 ],
 "metadata": {
  "kernelspec": {
   "display_name": "Python 3",
   "language": "python",
   "name": "python3"
  },
  "language_info": {
   "codemirror_mode": {
    "name": "ipython",
    "version": 3
   },
   "file_extension": ".py",
   "mimetype": "text/x-python",
   "name": "python",
   "nbconvert_exporter": "python",
   "pygments_lexer": "ipython3",
   "version": "3.7.4"
  }
 },
 "nbformat": 4,
 "nbformat_minor": 2
}
