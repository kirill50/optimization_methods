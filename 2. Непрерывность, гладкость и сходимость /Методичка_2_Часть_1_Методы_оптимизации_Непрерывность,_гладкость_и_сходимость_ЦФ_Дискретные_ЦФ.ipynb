{
 "cells": [
  {
   "cell_type": "markdown",
   "metadata": {
    "colab_type": "text",
    "id": "8lXU1HKbnZPX"
   },
   "source": [
    "# Непрерывность, гладкость и сходимость ЦФ. Дискретные ЦФ"
   ]
  },
  {
   "cell_type": "markdown",
   "metadata": {
    "colab_type": "text",
    "id": "NBwmfgTWoGhj"
   },
   "source": [
    "##  План урока"
   ]
  },
  {
   "cell_type": "markdown",
   "metadata": {
    "colab_type": "text",
    "id": "4SSmjRrhoGhk"
   },
   "source": [
    "<ol>\n",
    "    <li>Непрерывность ЦФ.</li>\n",
    "    <li>Гладкость и сходимость непрерывной ЦФ.</li>\n",
    "    <li>Сходимость дискретной функции.</li>\n",
    "    <li>Построение дискретной ЦФ для реальной системы.</li>\n",
    "</ol>"
   ]
  },
  {
   "cell_type": "markdown",
   "metadata": {
    "colab_type": "text",
    "id": "sqOq1If1oGhl"
   },
   "source": [
    "## Непрерывность ЦФ"
   ]
  },
  {
   "cell_type": "markdown",
   "metadata": {
    "colab_type": "text",
    "id": "GeT-GXZtoGhm"
   },
   "source": [
    "Функция называется непрерывной в точке, если справа и слева в $\\epsilon$-окрестности этой точки она стремится к значению в этой точке. Иными словами, если предел функции справа равен пределу слева и оба они конечны и равны значению функции в точке, то функция непрерывна:"
   ]
  },
  {
   "cell_type": "markdown",
   "metadata": {
    "colab_type": "text",
    "id": "u2j_ZPyloGhm"
   },
   "source": [
    "<center>$$\n",
    "    \\lim_{x \\to A-\\epsilon} \n",
    "    F(x) \n",
    "    = \\lim_{x \\to A+\\epsilon} \n",
    "    F(x) = F(A)$$</center>"
   ]
  },
  {
   "cell_type": "markdown",
   "metadata": {
    "colab_type": "text",
    "id": "Nyk8hWrEoGho"
   },
   "source": [
    "Если функция непрерывна во всех точках на каком-либо отрезке, значит, она непрерывна на отрезке. Если функция непрерывна на всей области определения, то говорят, что она непрерывна (без уточнений).<br>\n",
    "Самый простой пример непрерывной функции: $F(\\vec{x}) = С$, где $C$ — постоянная величина. <br>\n",
    "Однако этот пример, как и множество других простых примеров, для решения задач оптимизации в качестве целевой функции абсолютно не годится: в данном случае, какой бы мы ни выбирали $\\vec{x}$, значение целевой функции не изменится на всей области определения."
   ]
  },
  {
   "cell_type": "markdown",
   "metadata": {
    "colab_type": "text",
    "id": "xBFazkYwoGhp"
   },
   "source": [
    "Из непрерывности следуют важные для теории оптимизации свойства:<br>\n",
    "<ol>\n",
    "    <li>Если функция на концах отрезка принимает разные значения, то на отрезке она принимает абсолютно все значения, заключённые между значениями на концах этого отрезка (теорема Больцано-Коши).</li>\n",
    "    <li>Следствием из теоремы выше будет утверждение, что если на некоем отрезке функция принимает значения разных знаков, то существует по крайней мере одна точка, в которой $F(\\vec{x}) = 0$.</li>\n",
    "    <li>Поскольку непрерывная функция в любой точке имеет конечный предел, то эта функция будет ограничена на отрезке.</li>\n",
    "    <li>Самое важное для теории оптимизации свойство: если функция непрерывна на отрезке, то на этом отрезке она принимает свои максимальное и минимальное значения (теорема Вейерштрасса).</li>\n",
    "</ol>"
   ]
  },
  {
   "cell_type": "markdown",
   "metadata": {
    "colab_type": "text",
    "id": "tSoZ7hFmoGhq"
   },
   "source": [
    " Таким образом, если ЦФ непрерывна на ОДР, то существует решение задачи оптимизации для выбранной ЦФ."
   ]
  },
  {
   "cell_type": "markdown",
   "metadata": {
    "colab_type": "text",
    "id": "sjvKqDxjoGhr"
   },
   "source": [
    "## Гладкость и сходимость непрерывной ЦФ"
   ]
  },
  {
   "cell_type": "markdown",
   "metadata": {
    "colab_type": "text",
    "id": "m4CehZWQoGhr"
   },
   "source": [
    "Функциональный анализ важен на этапе построения ЦФ, так как правильная классификация функции поможет в дальнейшем верно выбрать метод оптимизации. Не все методы оптимизации пригодны или эффективны для некоторых классов функций."
   ]
  },
  {
   "cell_type": "markdown",
   "metadata": {
    "colab_type": "text",
    "id": "0699iFf1oGhs"
   },
   "source": [
    "Функция называется гладкой на отрезке, если она дифференцируема во всех точках этого отрезка. Иными словами, если существует производная функции во всех точках, то она гладкая. Примером негладкой функции может служить $F(x) = |x|$, потому что она не имеет производной в точке $x = 0$."
   ]
  },
  {
   "cell_type": "markdown",
   "metadata": {
    "colab_type": "text",
    "id": "SfxFMzcLoGht"
   },
   "source": [
    "По существованию производных высших порядков можно судить о степени гладкости функции. Например, линейная функция, квадратичная и тригонометрическая — имеют бесконечное число производных,то есть являются бесконечно-гладкими. Некоторые методы оптимизации непригодны для недостаточно гладких функций. Например, метод парабол становится эффективен для трижды гладких функций."
   ]
  },
  {
   "cell_type": "markdown",
   "metadata": {
    "colab_type": "text",
    "id": "zSeVtPpEoGhu"
   },
   "source": [
    "Помимо непрерывности и гладкости существует ещё ряд характеристик функций, которые имеют значение для решения задач оптимизации. Для некоторых методов оптимизации характерны дополнительные требования к форме (например, выпуклость для метода хорд) или модальности. Хорошо подходят для задач оптимизации унимодальные функции - это непрывные функции, для которых локальные экстремумы являются единственными (то есть глобальными). Большинство методов поисковой оптимизации пригодны только для унимодальных функций. Кроме того, если функция, помимо всего прочего, ещё и монотонна (только возрастает или только убывает на отрезке), то решение задачи оптимизации будет находится в одном из концов отрезка (в зависимости от выбранного критерия)."
   ]
  },
  {
   "cell_type": "markdown",
   "metadata": {
    "colab_type": "text",
    "id": "PdKyDQs8oGhw"
   },
   "source": [
    "Сходимость функции в точке означает существование конечного предела в этой точке. В аспектах теории оптимизации сходимость — характеристика вычислений, показывающая скорость приближения к оптимальному результату с заданной точностью. Одна и та же функция может показать для разных методов разную сходимость. Если задачу оптимизации возможно решить ограниченным количеством методов (в силу размерности, структуры системы или иных причин), выбирают функцию, которая обеспечит высшую сходимость. \n",
    "Здесь от выбора функций зависит количество произведенных вычислений и время работы алгоритма.<br>\n",
    "Например, в $x_0 = 0$ функция $F_1(x) = x^2$ сходится в 0 медленнее, чем $F_2(x) = x$. Объясняется это тем, что в окрестности $x_0 = 0$ прямая убывает быстрее параболы при равных приращениях."
   ]
  },
  {
   "cell_type": "markdown",
   "metadata": {
    "colab_type": "text",
    "id": "dlPnI3RkoGhx"
   },
   "source": [
    "## Сходимость дискретной функции"
   ]
  },
  {
   "cell_type": "markdown",
   "metadata": {
    "colab_type": "text",
    "id": "jc_bBpowoGhy"
   },
   "source": [
    "Особенность дискретных функций в том, что они оперируют дискретными переменными и имеют дискретные результаты. Нестрого говоря, прилагательное «дискретный» является антонимом к слову «непрерывный». Поскольку точность аппаратных вычислений конечна, то можно с уверенностью сказать, что всё пространство чисел в мире вычислительной техники дискретно. "
   ]
  },
  {
   "cell_type": "markdown",
   "metadata": {
    "colab_type": "text",
    "id": "zDdTU2yHoGhz"
   },
   "source": [
    "В поисковых алгоритмах оптимизации огромное влияние на быстродействие оказывает управление шагом дискретизации. Например, при решении уравнений методом деления отрезка пополам шаг дискретизации уменьшается линейно. В задачах, постановка которых позволяет, шаг дискретизации может убывать экспоненциально. В некоторых интеллектуальных алгоритмах шаг может увеличиваться или уменьшаться в зависимости от внешних факторов."
   ]
  },
  {
   "cell_type": "markdown",
   "metadata": {
    "colab_type": "text",
    "id": "DcBBpbFKoGh0"
   },
   "source": [
    "Дискретная функция имеет конечную разность (аналог производной из непрерывных вычислений):\n",
    "<center>$\\Delta F (t) = F(t+1) - F(t)$</center>"
   ]
  },
  {
   "cell_type": "markdown",
   "metadata": {
    "colab_type": "text",
    "id": "vrbnfoTuoGh1"
   },
   "source": [
    "Конечная разность (КР) второго порядка есть разность КР первого порядка. КР высших порядков вычисляются аналогично. По величине конечных разностей можно судить о сходимости функций: чем больше КР, тем выше сходимость."
   ]
  },
  {
   "cell_type": "markdown",
   "metadata": {
    "colab_type": "text",
    "id": "1w1VK8vioGh2"
   },
   "source": [
    "Примером дискретной функции может служить: $$F(x) = x^3\\textrm{, где }x \\in \\mathbb{Z}$$"
   ]
  },
  {
   "cell_type": "code",
   "execution_count": null,
   "metadata": {
    "colab": {},
    "colab_type": "code",
    "id": "7Y5rCGsooGh2",
    "outputId": "8e0ea05d-446d-4609-bc31-ee195203f742"
   },
   "outputs": [
    {
     "data": {
      "image/png": "[encoded data removed]",
      "text/plain": [
       "<Figure size 432x288 with 1 Axes>"
      ]
     },
     "metadata": {
      "tags": []
     },
     "output_type": "display_data"
    }
   ],
   "source": [
    "import numpy as np              \n",
    "import matplotlib.pyplot as plt \n",
    "import math\n",
    "\n",
    "x = np.linspace(-10, 10, 21)                             # 21 равный промежуток от -10 до 10\n",
    "F = x**3                                                 # выражение ЦФ\n",
    "\n",
    "fig, ax = plt.subplots()                                 # прорисовка осей\n",
    "\n",
    "markerline, stemlines, baseline = plt.stem(x, F, ':')\n",
    "\n",
    "ax.grid()                                                # прорисовка сетки\n",
    " \n",
    "lgnd = ax.legend(['ЦФ'], loc='upper left', shadow=True)  # легенда\n",
    "lgnd.get_frame().set_facecolor('#ffb19a')                # рамка легенды\n",
    " \n",
    "plt.show()                                               # вывод графика"
   ]
  },
  {
   "cell_type": "markdown",
   "metadata": {
    "colab_type": "text",
    "id": "7OqKWeXmoGh-"
   },
   "source": [
    "## Построение дискретной ЦФ для реальной системы"
   ]
  },
  {
   "cell_type": "markdown",
   "metadata": {
    "colab_type": "text",
    "id": "OQnaw6IXoGh_"
   },
   "source": [
    "Выбор ЦФ для дискретной системы мало чем отличается от выбора ЦФ для системы непрерывной. Также стоит обращать внимание на существование функции и её конечных разностей на дискретной ОДР."
   ]
  },
  {
   "cell_type": "markdown",
   "metadata": {
    "colab_type": "text",
    "id": "Zt_mp-0Ihvqq"
   },
   "source": [
    "Пример 1. Задача о назначениях \n",
    "\n",
    "Пусть имеется \"n\" единиц оборудования различных типов, которое требуется распределитт между \"n\" предприятиями, имеющими различный уровень технической оснащенности. Обозначим $c_{ij}$ - производительность \"i\"-го типа оборудования на \"j\"-м предприятии. Задача состоит в таком распределении оборудования (по одному на предприятие), которое обечпечит максимальную производительность.\n",
    "\n",
    "Определим неизвестные $x_{ij}$ следующим образом:\n",
    "\n",
    "<center>$ x_{ij} = \\begin{cases} 1, если \"i\" тип \\space оборудования \\space попадает\\space на \"j\" предприятие; \\\\\n",
    "0, в\\spaceпротивном\\spaceслучае. \\end {cases}$</center>\n",
    "\n",
    "Теперь задача может быть сформулирована следующий образом. Найти такие значения $x_{ij}$ чтобы производительность, распределяемого оборудования была максимальной\n",
    "\n",
    "<center>$P = \\sum_{i=1}^n \\sum_{j=1}^n c_{ij} x_{ij} \\rightarrow max$</center>\n",
    "\n",
    "при условиях:\n",
    "\n",
    "1) $ \\sum_{i=1}^n x_{ij} =  1, j=1,2,...,n$ (На каждое предприятие по одному виду оборудования),\n",
    "\n",
    "2) $ \\sum_{j=1}^n x_{ij} =  1, i=1,2,...,n$ (Каждая единица оборудования распределяется на одно предприятие)."
   ]
  },
  {
   "cell_type": "markdown",
   "metadata": {
    "colab_type": "text",
    "id": "SYP6goJBBZIR"
   },
   "source": [
    "Пример 2. Задача о назначениях \n",
    "\n",
    "\n",
    "Предположим у нас имеются 4 склада A1, A2, A3, A4 и 4 магазина B1, B2, B3, B4. Расстояние от каждого склада до каждого магазина заданы с помощью следующей матрицы\n",
    "\n",
    "$\\begin{pmatrix}\n",
    "10 & 20 & 12 & 5\\\\\n",
    "3 & 14 & 9 & 1\\\\\n",
    "13 & 8 & 6 & 9 \\\\\n",
    "7 & 15 & 6 & 9\n",
    "\\end{pmatrix}$\n",
    "\n",
    "Требуется так прикрепить склады к магазинам, чтобы суммарное расстояние получилосбь минимальным\n",
    "\n",
    "**Венгерский метод**\n",
    "\n",
    "1. В каждой строке матрицы назначения находим минимальный элемент и вычитаем его из всех элементов строки.\n",
    "2. В каждом столбце полученной матрицы находим минимальный элемент и вычитаем его из всех элементов столбца.\n",
    "3. Находим строку с одним нулем. Этот ноль заключаем в квадрат и называем отмеченным. В столбце, где стоит отмеченный ноль, все остальные нули зачеркиваем и в дальнейшем не рассматриваем. Этот шаг продолжаем, пока возможно.\n",
    "4. Находим столбец с одним нулем и этот ноль отмечаем. В строке, где стоит отмеченный ноль, все остальные нули зачеркиваются. Этот шаг продолжаем, пока возможно\n",
    "5. Если после выполнения шагов $3$ и $4$ еще остаются неотмеченные нули, то отмечаем любой их них, а в строке и столбце, где стоит отмеченный ноль, все остальные нули зачеркиваются.\n",
    "6. Если каждая строка и каждый столбец матрицы содержит ровно один отмеченный ноль, то получено оптимальное решение. Каждый из отмеченных нулей прикрепляет поставщика к потребителю. В противном случаем проводим минимальное количество пересекающихся вертикальных и горизонтальных прямых через все нули. Среди не зачеркнутых этими прямыми чисел ищем минимум. Этот минимум вычитаем их всех не зачеркнутых чисел и прибавляем ко всем числам на пересечении прямых. К полученной матрице применяем вышеприведенный алгоритм, начиная с шага $3$.\n",
    "\n",
    "\n"
   ]
  },
  {
   "cell_type": "markdown",
   "metadata": {
    "colab_type": "text",
    "id": "g0BdNBnQoGiF"
   },
   "source": [
    "## Полезные ссылки"
   ]
  },
  {
   "cell_type": "markdown",
   "metadata": {
    "colab_type": "text",
    "id": "ChlAvmvYoGiF"
   },
   "source": [
    "https://ru.wikipedia.org/wiki/Исследование_функции — статья об исследовании функций со ссылками на отдельные темы.\n",
    "https://studfiles.net/preview/734098/ — немного про дискретные функции."
   ]
  },
  {
   "cell_type": "markdown",
   "metadata": {
    "colab_type": "text",
    "id": "8HiaTKUfoGiH"
   },
   "source": [
    "## Практическое задание"
   ]
  },
  {
   "cell_type": "markdown",
   "metadata": {
    "colab_type": "text",
    "id": "Jk2M0GfnoGiI"
   },
   "source": [
    "Директор выделил машину под закупку оборудования, выделил достаточно большое количество денег и сказал: «Берите, что вам нужно, но не более 200 кг. И каждого товара берите не более одной единицы!»\n",
    "Есть прайс-лист на 2000 наименований.<br>\n",
    "Стоимости товаров варьируются от \\$100 до \\$5000 с шагом \\$100.<br>\n",
    "Массы товаров варьируются от 1 до 150 кг с шагом в 1 кг.<br>\n",
    "Зависимостей между массой и стоимостью нет (может выпасть товар массой 1 кг и стоимостью \\$5000 и массой 150 кг и стоимостью \\$100.<br>\n",
    "Необходимо составить ЦФ для этой задачи, выбрать критерий оптимальности и...<br>\n",
    "\\* ...предложить алгоритм её решения."
   ]
  }
 ],
 "metadata": {
  "colab": {
   "collapsed_sections": [],
   "name": "Методичка 2.Часть 1. Методы оптимизации. Непрерывность, гладкость и сходимость ЦФ. Дискретные ЦФ.ipynb",
   "provenance": []
  },
  "kernelspec": {
   "display_name": "Python 3",
   "language": "python",
   "name": "python3"
  },
  "language_info": {
   "codemirror_mode": {
    "name": "ipython",
    "version": 3
   },
   "file_extension": ".py",
   "mimetype": "text/x-python",
   "name": "python",
   "nbconvert_exporter": "python",
   "pygments_lexer": "ipython3",
   "version": "3.7.4"
  }
 },
 "nbformat": 4,
 "nbformat_minor": 1
}
