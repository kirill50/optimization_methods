{
  "nbformat": 4,
  "nbformat_minor": 0,
  "metadata": {
    "colab": {
      "name": "Решение домашнего задания. Урок 2.ipynb",
      "provenance": []
    },
    "kernelspec": {
      "name": "python3",
      "display_name": "Python 3"
    }
  },
  "cells": [
    {
      "cell_type": "markdown",
      "metadata": {
        "id": "HM2LtTdyjVDM",
        "colab_type": "text"
      },
      "source": [
        "Задача 1\n",
        "\n",
        "Директор выделил машину под закупку оборудования, выделил достаточно большое количество денег и сказал: «Берите, что вам нужно, но не более 200 кг. И каждого товара берите не более одной единицы!» Есть прайс-лист на 2000 наименований. Стоимости товаров варьируются от 100 долл. до 5000 долл;. с шагом 100 долл;. Массы товаров варьируются от 1 до 150 кг с шагом в 1 кг. Зависимостей между массой и стоимостью нет\n",
        "\n",
        "Необходимо составить ЦФ для этой задачи, выбрать критерий оптимальности и...\n",
        "*...предложить алгоритм её решения.\n"
      ]
    },
    {
      "cell_type": "markdown",
      "metadata": {
        "id": "3H6LHfX2jxsy",
        "colab_type": "text"
      },
      "source": [
        "Будем решать следующую задачу: хотим потратить максимальное количество денег. <br>\n",
        "Пронумеруем все товары от 1 до 2000\n",
        "\n",
        "\n",
        "$w_i$ - вес i-ой позиции <br>\n",
        "$c_i$ - цена i-ой позиции <br>\n",
        "$ x_{i} = \\begin{cases} 1, если \\space мы \\space берем \"i\" товар\\\\\n",
        "0, в\\spaceпротивном\\spaceслучае. \\end {cases}$ <br>"
      ]
    },
    {
      "cell_type": "markdown",
      "metadata": {
        "id": "-hFPcTzukHwz",
        "colab_type": "text"
      },
      "source": [
        "Целевая функция — стоимость всех выбранных товаров:\n",
        "\n",
        "$$F(x_1, x_2 \\dots x_{2000}) = \\sum_{i = 1}^{2000} x_i с_i \\rightarrow max$$\n",
        "\n",
        "С ограничением \n",
        "\n",
        "$$\\sum_{i = 1}^{2000} x_i w_i \\leqslant 200$$"
      ]
    },
    {
      "cell_type": "markdown",
      "metadata": {
        "id": "ONSvExizp-2U",
        "colab_type": "text"
      },
      "source": [
        "Решение задачи о рюкзаке 0-1 учитывает тот факт, что каждый предмет имеется в единственном экземпляре. Пусть $m[i,w]$ — максимальная ценность предметов, полученных из первых i имеющихся предметов, с суммарным весом не превышающим w.\n",
        "\n",
        "Рекуррентные соотношения:\n",
        "\n",
        " $m[0,w]=0$ <br>\n",
        "$m[i,w]=m[i-1,w]$, если $w_{i}>w$\n",
        "\n",
        "\n",
        "$m[i,w]=\\max(m[i-1, w],\\,m[i-1,w-w_{i}]+v_{i})$, если $ w_{i}\\leq w$\n",
        "\n",
        "\n",
        "Вычисляя $ m[n,W]$, можно найти точное решение."
      ]
    },
    {
      "cell_type": "code",
      "metadata": {
        "id": "_An_nIedpuMw",
        "colab_type": "code",
        "colab": {
          "base_uri": "https://localhost:8080/",
          "height": 52
        },
        "outputId": "47b09f7b-d8f6-4dcd-a8b6-8dd4a76886a5"
      },
      "source": [
        "from random import randrange\n",
        "\n",
        "\n",
        "def get_optim(items, capacity):\n",
        "    value = [0] * (capacity + 1)  \n",
        "    for item in items:  \n",
        "        for cur_weight in reversed(\n",
        "                range(item[1], capacity + 1)):  \n",
        "            if item[0] + value[cur_weight - item[1]] > value[cur_weight]:\n",
        "                value[cur_weight] = item[0] + value[cur_weight - item[1]]\n",
        "    return value[capacity]\n",
        "\n",
        "\n",
        "def generate_goods(num):\n",
        "    return [(randrange(100, 5001, 100), randrange(1, 151)) for _ in range(num)]\n",
        "\n",
        "\n",
        "if __name__ == '__main__':\n",
        "    goods = generate_goods(4)\n",
        "    print(goods)\n",
        "    print('Максимальная стоимость товаров:', get_optim(goods, 200))"
      ],
      "execution_count": null,
      "outputs": [
        {
          "output_type": "stream",
          "text": [
            "[(2200, 25), (2800, 107), (3100, 46), (2800, 135)]\n",
            "Максимальная стоимость товаров: 8100\n"
          ],
          "name": "stdout"
        }
      ]
    },
    {
      "cell_type": "markdown",
      "metadata": {
        "id": "LV8JzFunk3Rd",
        "colab_type": "text"
      },
      "source": [
        "Задача 2\n",
        "\n",
        "Предприятие выпускает покрышки и надувные лодки.\n",
        "Производство одной покрышки занимает 2 часа на заготовительном участке, 4 часа на участке обработки, 0 часов на участке сборки.\n",
        "Производство одной лодки занимает 6 часов на заготовительном участке, 3 часа на участке обработки, 2 часа на участке сборки.\n",
        "Стоимость одной лодки — 12000 рублей, стоимость покрышки — 7000 рублей.\n",
        "Фонд времени в день: заготовительного участка — 14 нормочасов, участка обработки — 10 нч, участка сборки — 8 нч.\n",
        "1. Составить ЦФ, записать ограничения и функцию Лагранжа для решения этой задачи.\n",
        "2. * Разработать оптимальный производственный план предприятия."
      ]
    },
    {
      "cell_type": "markdown",
      "metadata": {
        "id": "48RDgOg2lE3d",
        "colab_type": "text"
      },
      "source": [
        "Обозначим переменные: <br>\n",
        "$n_1$ - количество производимых покрышек<br>\n",
        "$n_2$ - количество производимых лодок<br>\n",
        "\n",
        "Целевая Функция: $F = 7000\\cdot n_1 + 12000 \\cdot n_2$<br>\n",
        "Критерий оптимальности: $(n_1^*, n_2^*): F(n_1^*, n_2^*) = \\max(F)$<br>\n",
        "Ограничения:<br>\n",
        "$2\\cdot n_1 +  6 \\cdot n_2 \\leq 14$ - ограничение заготовительного участка<br>\n",
        "$4\\cdot n_1 +  3 \\cdot n_2 \\leq 10$ - ограничение участка обработки<br>\n",
        "$0\\cdot n_1 +  2 \\cdot n_2 \\leq 8$ - ограничение участка сборки<br>"
      ]
    },
    {
      "cell_type": "markdown",
      "metadata": {
        "id": "_4ohh3aWlgR_",
        "colab_type": "text"
      },
      "source": [
        "Запишем функцию Лагранжа: $L(n_1,n_2,\\lambda_1,\\lambda_2, \\lambda_3) = 7000 n_1 + 12000  n_2 + \\lambda_1(2 n_1 +  6 n_2 - 14) + \\lambda_2(4 n_1 +  3 n_2 - 10) + \\lambda_3(2  n_2 - 8)$<br>\n",
        "\n",
        "Запишем уравнения для частных производных функции Лагранжа:<br>\n",
        "$\\frac{\\delta{L(n_1,n_2,\\lambda_1, \\lambda_2, \\lambda_3)}}{\\delta{n_1}} = 7000 + 2\\lambda_1 + 4\\lambda_2 = 0$<br>\n",
        "$\\frac{\\delta{L(n_1,n_2,\\lambda_1, \\lambda_2, \\lambda_3)}}{\\delta{n_2}} = 12000 + 6\\lambda_1 + 3\\lambda_2 = 0$<br>\n",
        "$\\frac{\\delta{L(n_1,n_2,\\lambda_1, \\lambda_2, \\lambda_3)}}{\\delta{\\lambda_1}} = 2 n_1 +  6 n_2 - 14 = 0$<br>\n",
        "$\\frac{\\delta{L(n_1,n_2,\\lambda_1, \\lambda_2, \\lambda_3)}}{\\delta{\\lambda_2}} = 4 n_1 +  3 n_2 - 10 = 0$<br>\n",
        "$\\frac{\\delta{L(n_1,n_2,\\lambda_1, \\lambda_2, \\lambda_3)}}{\\delta{\\lambda_3}} = 2  n_2 - 8 = 0$<br>"
      ]
    },
    {
      "cell_type": "markdown",
      "metadata": {
        "id": "KJhEizZJlyxT",
        "colab_type": "text"
      },
      "source": [
        "Решая систему в целых числах, получим $n_1^* = 1$, $n_2^* = 2$.<br>\n",
        "Оптимальный производственный план:1 покрышка и  2 лодки за смену общей стоимостью 31000"
      ]
    },
    {
      "cell_type": "markdown",
      "metadata": {
        "id": "aFL2zgnAzVCG",
        "colab_type": "text"
      },
      "source": [
        "https://ru.wikipedia.org/wiki/%D0%97%D0%B0%D0%B4%D0%B0%D1%87%D0%B0_%D0%BE_%D1%80%D1%8E%D0%BA%D0%B7%D0%B0%D0%BA%D0%B5 - задача о рюкзаке"
      ]
    }
  ]
}