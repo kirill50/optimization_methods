{
  "nbformat": 4,
  "nbformat_minor": 0,
  "metadata": {
    "kernelspec": {
      "display_name": "Python 3",
      "language": "python",
      "name": "python3"
    },
    "language_info": {
      "codemirror_mode": {
        "name": "ipython",
        "version": 3
      },
      "file_extension": ".py",
      "mimetype": "text/x-python",
      "name": "python",
      "nbconvert_exporter": "python",
      "pygments_lexer": "ipython3",
      "version": "3.7.4"
    },
    "colab": {
      "name": "МО. Генетика. Часть 2.ipynb",
      "provenance": []
    }
  },
  "cells": [
    {
      "cell_type": "code",
      "metadata": {
        "id": "5a4i_NnIY9Z7",
        "colab_type": "code",
        "colab": {}
      },
      "source": [
        "import warnings\n",
        "import numpy as np\n",
        "import pandas as pd\n",
        "\n",
        "from sklearn.metrics import roc_auc_score\n",
        "from sklearn.preprocessing import StandardScaler\n",
        "from sklearn.linear_model import LogisticRegression\n",
        "from genetic_selection import GeneticSelectionCV\n",
        "warnings.simplefilter(\"ignore\")"
      ],
      "execution_count": null,
      "outputs": []
    },
    {
      "cell_type": "markdown",
      "metadata": {
        "id": "s_ZzWN3VY9Z_",
        "colab_type": "text"
      },
      "source": [
        "## Загрузка и предобработка данных"
      ]
    },
    {
      "cell_type": "code",
      "metadata": {
        "id": "P9PS5gw6Y9Z_",
        "colab_type": "code",
        "colab": {}
      },
      "source": [
        "train = pd.read_csv(\"train.csv\")\n",
        "valid = pd.read_csv(\"valid.csv\")"
      ],
      "execution_count": null,
      "outputs": []
    },
    {
      "cell_type": "markdown",
      "metadata": {
        "id": "heSI9gDCY9aC",
        "colab_type": "text"
      },
      "source": [
        "## Обработка категориальных переменных"
      ]
    },
    {
      "cell_type": "code",
      "metadata": {
        "id": "TboUt8xnY9aC",
        "colab_type": "code",
        "colab": {}
      },
      "source": [
        "categorical_features = train.select_dtypes(include=[\"object\"])\n",
        "categorical_features = categorical_features.columns.tolist()"
      ],
      "execution_count": null,
      "outputs": []
    },
    {
      "cell_type": "code",
      "metadata": {
        "id": "Yz-oOpkdY9aF",
        "colab_type": "code",
        "colab": {}
      },
      "source": [
        "# OneHotEncoding\n",
        "train_categorical = pd.get_dummies(train[categorical_features].fillna(\"NA\"))\n",
        "valid_categorical = pd.get_dummies(valid[categorical_features].fillna(\"NA\"))"
      ],
      "execution_count": null,
      "outputs": []
    },
    {
      "cell_type": "markdown",
      "metadata": {
        "id": "m5-G24YmY9aH",
        "colab_type": "text"
      },
      "source": [
        "## Обрабокта числовых переменных"
      ]
    },
    {
      "cell_type": "code",
      "metadata": {
        "id": "YQ3_zanmY9aH",
        "colab_type": "code",
        "colab": {}
      },
      "source": [
        "numeric_features = train.select_dtypes(exclude=[\"object\"])\n",
        "numeric_features = numeric_features.drop([\"TARGET\", \"SK_ID_CURR\"], axis=1)\n",
        "numeric_features = numeric_features.columns.tolist()"
      ],
      "execution_count": null,
      "outputs": []
    },
    {
      "cell_type": "code",
      "metadata": {
        "id": "Ddg3vqwHY9aJ",
        "colab_type": "code",
        "colab": {}
      },
      "source": [
        "# (x - x.mean()) / x.std()\n",
        "scaler = StandardScaler()\n",
        "train_numeric = scaler.fit_transform(train[numeric_features].fillna(0))\n",
        "valid_numeric = scaler.transform(valid[numeric_features].fillna(0))"
      ],
      "execution_count": null,
      "outputs": []
    },
    {
      "cell_type": "markdown",
      "metadata": {
        "id": "YMwDdoQ8Y9aL",
        "colab_type": "text"
      },
      "source": [
        "## Объединение числовых и категориальных переменных"
      ]
    },
    {
      "cell_type": "code",
      "metadata": {
        "id": "pg6ZTR0qY9aM",
        "colab_type": "code",
        "colab": {}
      },
      "source": [
        "X_train = pd.DataFrame(train_numeric, columns=numeric_features)\n",
        "X_valid = pd.DataFrame(valid_numeric, columns=numeric_features)\n",
        "\n",
        "X_train = pd.concat([X_train, train_categorical], axis=1)\n",
        "X_valid = pd.concat([X_valid, valid_categorical], axis=1)"
      ],
      "execution_count": null,
      "outputs": []
    },
    {
      "cell_type": "code",
      "metadata": {
        "id": "NsByZ3F7Y9aO",
        "colab_type": "code",
        "colab": {}
      },
      "source": [
        "y_train, y_valid = train[\"TARGET\"], valid[\"TARGET\"]\n",
        "X_train = X_train.drop(\"NAME_FAMILY_STATUS_Unknown\", axis=1)"
      ],
      "execution_count": null,
      "outputs": []
    },
    {
      "cell_type": "code",
      "metadata": {
        "id": "7kNqZNIXY9aQ",
        "colab_type": "code",
        "colab": {},
        "outputId": "22bc3fb2-601b-4bc9-dd33-00800c88b848"
      },
      "source": [
        "print(\"train.shape: {} rows, {} cols\".format(*X_train.shape))\n",
        "print(\"valid.shape: {} rows, {} cols\".format(*X_valid.shape))"
      ],
      "execution_count": null,
      "outputs": [
        {
          "output_type": "stream",
          "text": [
            "train.shape: 184506 rows, 249 cols\n",
            "valid.shape: 123005 rows, 249 cols\n"
          ],
          "name": "stdout"
        }
      ]
    },
    {
      "cell_type": "markdown",
      "metadata": {
        "id": "cBznq_HjY9aT",
        "colab_type": "text"
      },
      "source": [
        "## Обучение базовой модели"
      ]
    },
    {
      "cell_type": "code",
      "metadata": {
        "id": "DIuGVeJoY9aU",
        "colab_type": "code",
        "colab": {},
        "outputId": "794527b3-b76d-4984-9855-3f2127b74c80"
      },
      "source": [
        "model = LogisticRegression(\n",
        "    penalty=\"l2\", C=0.001\n",
        ")\n",
        "model.fit(X_train, y_train)"
      ],
      "execution_count": null,
      "outputs": [
        {
          "output_type": "execute_result",
          "data": {
            "text/plain": [
              "LogisticRegression(C=0.001, class_weight=None, dual=False, fit_intercept=True,\n",
              "                   intercept_scaling=1, l1_ratio=None, max_iter=100,\n",
              "                   multi_class='auto', n_jobs=None, penalty='l2',\n",
              "                   random_state=None, solver='lbfgs', tol=0.0001, verbose=0,\n",
              "                   warm_start=False)"
            ]
          },
          "metadata": {
            "tags": []
          },
          "execution_count": 85
        }
      ]
    },
    {
      "cell_type": "code",
      "metadata": {
        "id": "7vbvs9qiY9aW",
        "colab_type": "code",
        "colab": {},
        "outputId": "7f86ae83-004d-4392-b979-4b3d6ef01a25"
      },
      "source": [
        "y_pred = model.predict_proba(X_valid)\n",
        "score = roc_auc_score(y_valid, y_pred[:, 1])\n",
        "\n",
        "print(f\"Baseline score: {round(score, 4)}\")"
      ],
      "execution_count": null,
      "outputs": [
        {
          "output_type": "stream",
          "text": [
            "Baseline score: 0.7284\n"
          ],
          "name": "stdout"
        }
      ]
    },
    {
      "cell_type": "markdown",
      "metadata": {
        "id": "iFbUhsx1Y9aY",
        "colab_type": "text"
      },
      "source": [
        "## Отбор признаков с помощью генетики\n",
        "\n",
        "__Описание объекта `GeneticSelectionCV`__:\n",
        "\n",
        "* max_features - максимальное количество отобранных переменных;\n",
        "* n_population - размер популяции генетического алгоритма;\n",
        "* crossover_proba - вероятность для осуществления кроссовера;\n",
        "* mutation_proba - вероятность для осуществления мутации;\n",
        "* n_generations - количество итераций генетического алгоритма;"
      ]
    },
    {
      "cell_type": "code",
      "metadata": {
        "id": "boAyoDy2Y9aZ",
        "colab_type": "code",
        "colab": {}
      },
      "source": [
        "selector = GeneticSelectionCV(\n",
        "    estimator,\n",
        "    cv=5,\n",
        "    verbose=1,\n",
        "    scoring=\"roc_auc\",\n",
        "    max_features=50,\n",
        "    n_population=249,\n",
        "    crossover_proba=0.5,\n",
        "    mutation_proba=0.2,\n",
        "    n_generations=50,\n",
        "    crossover_independent_proba=0.5,\n",
        "    mutation_independent_proba=0.05,\n",
        "    tournament_size=3,\n",
        "    n_gen_no_change=5,\n",
        "    caching=True,\n",
        "    n_jobs=-1\n",
        ")"
      ],
      "execution_count": null,
      "outputs": []
    },
    {
      "cell_type": "code",
      "metadata": {
        "id": "DfbhOOkfY9ab",
        "colab_type": "code",
        "colab": {},
        "outputId": "5062f26e-ec27-4a54-f8d3-d821ceec4d98"
      },
      "source": [
        "selector = selector.fit(X_train.fillna(0), y_train)"
      ],
      "execution_count": null,
      "outputs": [
        {
          "output_type": "stream",
          "text": [
            "Selecting features with genetic algorithm.\n",
            "gen\tnevals\tavg                              \tstd                    \tmin              \tmax              \n",
            "0  \t249   \t[-10000.            124.40963855]\t[0.         8.01860709]\t[-10000.    105.]\t[-10000.    149.]\n",
            "1  \t147   \t[-10000.            118.00401606]\t[0.         5.83680195]\t[-10000.     97.]\t[-10000.    137.]\n",
            "2  \t138   \t[-10000.            113.36546185]\t[0.         4.92666826]\t[-10000.     97.]\t[-10000.    133.]\n",
            "3  \t149   \t[-10000.            109.80321285]\t[0.         5.15204854]\t[-10000.     97.]\t[-10000.    126.]\n",
            "4  \t146   \t[-10000.            106.04016064]\t[0.         5.01947948]\t[-10000.     90.]\t[-10000.    121.]\n",
            "5  \t167   \t[-10000.            102.14457831]\t[0.         5.66777517]\t[-10000.     84.]\t[-10000.    118.]\n",
            "6  \t158   \t[-10000.             97.73092369]\t[0.         5.44817566]\t[-10000.     84.]\t[-10000.    116.]\n",
            "7  \t159   \t[-10000.             94.30522088]\t[0.         5.39626645]\t[-10000.     79.]\t[-10000.    108.]\n",
            "8  \t168   \t[-10000.             91.02811245]\t[0.         6.24364841]\t[-10000.     75.]\t[-10000.    109.]\n",
            "9  \t155   \t[-10000.             86.57028112]\t[0.         5.75155648]\t[-10000.     68.]\t[-10000.    109.]\n",
            "10 \t147   \t[-10000.             83.10040161]\t[0.         5.42435752]\t[-10000.     65.]\t[-10000.    101.]\n",
            "11 \t142   \t[-10000.             80.07630522]\t[0.         5.56363342]\t[-10000.     65.]\t[-10000.     97.]\n",
            "12 \t166   \t[-10000.             76.22088353]\t[0.         5.46946669]\t[-10000.     61.]\t[-10000.     92.]\n",
            "13 \t151   \t[-10000.             72.85943775]\t[0.         5.54719811]\t[-10000.     58.]\t[-10000.     96.]\n",
            "14 \t159   \t[-10000.             69.52610442]\t[0.        5.6526215]  \t[-10000.     52.]\t[-10000.     85.]\n",
            "15 \t154   \t[-10000.            65.8875502]  \t[0.         5.59361778]\t[-10000.     52.]\t[-10000.     86.]\n",
            "16 \t137   \t[-10000.             62.70281124]\t[0.         4.93085036]\t[-10000.     52.]\t[-10000.     79.]\n",
            "17 \t155   \t[-9839.3470703     59.67068273]  \t[1257.30805056    5.09941172]\t[-10000.     47.]\t[ 0.6771605 74.       ]\n",
            "18 \t136   \t[-9036.08103213    56.51405622]  \t[2951.38703087    4.97955692]\t[-10000.     41.]\t[ 0.68332177 73.        ]\n",
            "19 \t137   \t[-7670.52891386    53.63052209]  \t[4227.27022943    5.0942948 ]\t[-10000.     41.]\t[ 0.68764416 73.        ]\n",
            "20 \t154   \t[-5341.0589589     51.12449799]  \t[4988.66154575    5.20470152]\t[-10000.     37.]\t[ 0.68995009 65.        ]\n",
            "21 \t163   \t[-3493.54337396    50.00803213]  \t[4768.11430425    4.93491126]\t[-10000.     38.]\t[ 0.68995009 69.        ]\n",
            "22 \t150   \t[-2971.41233548    49.36947791]  \t[4.57051250e+03 4.34367381e+00]\t[-10000.     39.]\t[ 0.70683645 63.        ]\n",
            "23 \t142   \t[-2609.93938092    49.08835341]  \t[4392.33815186    4.66123733]  \t[-10000.     38.]\t[ 0.69248579 63.        ]\n",
            "24 \t143   \t[-2409.11973537    48.65863454]  \t[4276.97650186    4.64307747]  \t[-10000.     37.]\t[ 0.69322048 63.        ]\n",
            "25 \t142   \t[-2368.95422156    48.45381526]  \t[4252.39172373    4.47560046]  \t[-10000.     38.]\t[ 0.71374655 64.        ]\n",
            "26 \t150   \t[-2368.95253738    48.42971888]  \t[4252.39266224    4.30140543]  \t[-10000.     39.]\t[ 0.71411186 68.        ]\n",
            "27 \t126   \t[-1967.31673604    47.93574297]  \t[3975.97536495    4.61313468]  \t[-10000.     36.]\t[ 0.71552148 64.        ]\n",
            "28 \t129   \t[-1485.35397357    47.52610442]  \t[3557.12829862    4.3446317 ]  \t[-10000.     36.]\t[ 0.71552148 61.        ]\n",
            "29 \t163   \t[-2127.96494105    47.92771084]  \t[4093.52002011    4.73332999]  \t[-10000.     38.]\t[ 0.71645985 65.        ]\n",
            "30 \t151   \t[-2208.28808033    47.65863454]  \t[4148.71275849    5.02043372]  \t[-10000.     36.]\t[ 0.71645985 64.        ]\n",
            "31 \t142   \t[-1605.83183557    47.12851406]  \t[3672.2692663     4.77354135]  \t[-10000.     33.]\t[ 0.71649126 64.        ]\n",
            "32 \t142   \t[-2047.6267207     47.34538153]  \t[4035.9822753     4.78715533]  \t[-10000.     36.]\t[ 0.71709705 62.        ]\n",
            "33 \t138   \t[-1766.48046165    46.70682731]  \t[3814.4763637     4.88650235]  \t[-10000.     35.]\t[ 0.7176034 63.       ]  \n",
            "34 \t147   \t[-1886.9704639     47.04417671]  \t[3913.4185683     5.04219706]  \t[-10000.     36.]\t[ 0.71766393 65.        ]\n",
            "35 \t159   \t[-2489.42314401    48.15261044]  \t[4324.62382031    5.30976247]  \t[-10000.     36.]\t[ 0.71926207 63.        ]\n",
            "36 \t144   \t[-2007.46006891    47.38955823]  \t[4006.29826228    4.97835187]  \t[-10000.     35.]\t[ 0.71926207 64.        ]\n",
            "37 \t149   \t[-2127.95052179    47.79518072]  \t[4093.52751823    4.75865486]  \t[-10000.     38.]\t[ 0.71897581 61.        ]\n",
            "38 \t145   \t[-1886.96891352    47.74698795]  \t[3913.41931614    4.6383508 ]  \t[-10000.     38.]\t[ 0.72007623 63.        ]\n",
            "39 \t149   \t[-1886.96827025    47.79518072]  \t[3913.41962643    4.61469376]  \t[-10000.     36.]\t[ 0.72065483 64.        ]\n",
            "40 \t157   \t[-2168.11253891    47.84337349]  \t[4121.41182244    4.56936348]  \t[-10000.     36.]\t[ 0.72065483 62.        ]\n",
            "41 \t138   \t[-2569.74738253    48.45381526]  \t[4370.26429617    4.79613251]  \t[-10000.     38.]\t[ 0.72182525 64.        ]\n",
            "42 \t150   \t[-2047.62135057    47.73092369]  \t[4035.98500074    4.61574566]  \t[-10000.     38.]\t[ 0.72182525 62.        ]\n",
            "43 \t149   \t[-1967.29370468    47.30923695]  \t[3975.98676489    4.93051671]  \t[-10000.     37.]\t[ 0.72224593 66.        ]\n",
            "44 \t143   \t[-2047.62026629    47.31325301]  \t[4035.98555103    5.06565975]  \t[-10000.     38.]\t[ 0.7227977 67.       ]  \n",
            "45 \t151   \t[-2007.45619463    47.24497992]  \t[4006.30020428    4.95767476]  \t[-10000.     36.]\t[ 0.72282689 63.        ]\n",
            "46 \t158   \t[-1806.63803111    47.18473896]  \t[3848.16171793    4.94690768]  \t[-10000.     36.]\t[ 0.72289879 64.        ]\n",
            "47 \t141   \t[-1806.63760194    47.93172691]  \t[3848.1619195     4.63955378]  \t[-10000.     37.]\t[ 0.72307445 64.        ]\n",
            "48 \t137   \t[-2007.45525157    48.58232932]  \t[4006.30067699    4.77214232]  \t[-10000.     39.]\t[ 0.72312675 65.        ]\n",
            "49 \t142   \t[-2168.10931079    48.66666667]  \t[4121.41352119    4.24516419]  \t[-10000.     39.]\t[ 0.72339219 67.        ]\n",
            "50 \t134   \t[-1806.63718644    48.76706827]  \t[3848.16211464    4.0362265 ]  \t[-10000.     38.]\t[ 0.72415403 66.        ]\n"
          ],
          "name": "stdout"
        }
      ]
    },
    {
      "cell_type": "code",
      "metadata": {
        "id": "hXjve4q4Y9ac",
        "colab_type": "code",
        "colab": {}
      },
      "source": [
        "selector.support_"
      ],
      "execution_count": null,
      "outputs": []
    },
    {
      "cell_type": "markdown",
      "metadata": {
        "id": "piLdiRmrY9af",
        "colab_type": "text"
      },
      "source": [
        "## Проверим модельку на отобранных признаках"
      ]
    },
    {
      "cell_type": "code",
      "metadata": {
        "id": "lp_qpsAYY9af",
        "colab_type": "code",
        "colab": {},
        "outputId": "966046cc-2c04-4066-d37a-7ed1c46cfb70"
      },
      "source": [
        "selected_features = X_train.columns[selector.support_]\n",
        "X_train[selected_features].head(n=2)"
      ],
      "execution_count": null,
      "outputs": [
        {
          "output_type": "execute_result",
          "data": {
            "text/html": [
              "<div>\n",
              "<style scoped>\n",
              "    .dataframe tbody tr th:only-of-type {\n",
              "        vertical-align: middle;\n",
              "    }\n",
              "\n",
              "    .dataframe tbody tr th {\n",
              "        vertical-align: top;\n",
              "    }\n",
              "\n",
              "    .dataframe thead th {\n",
              "        text-align: right;\n",
              "    }\n",
              "</style>\n",
              "<table border=\"1\" class=\"dataframe\">\n",
              "  <thead>\n",
              "    <tr style=\"text-align: right;\">\n",
              "      <th></th>\n",
              "      <th>CNT_CHILDREN</th>\n",
              "      <th>AMT_INCOME_TOTAL</th>\n",
              "      <th>AMT_CREDIT</th>\n",
              "      <th>AMT_ANNUITY</th>\n",
              "      <th>AMT_GOODS_PRICE</th>\n",
              "      <th>DAYS_BIRTH</th>\n",
              "      <th>DAYS_EMPLOYED</th>\n",
              "      <th>DAYS_REGISTRATION</th>\n",
              "      <th>OWN_CAR_AGE</th>\n",
              "      <th>REGION_RATING_CLIENT_W_CITY</th>\n",
              "      <th>...</th>\n",
              "      <th>ORGANIZATION_TYPE_Bank</th>\n",
              "      <th>ORGANIZATION_TYPE_Business Entity Type 3</th>\n",
              "      <th>ORGANIZATION_TYPE_Industry: type 5</th>\n",
              "      <th>ORGANIZATION_TYPE_Military</th>\n",
              "      <th>ORGANIZATION_TYPE_Self-employed</th>\n",
              "      <th>ORGANIZATION_TYPE_Trade: type 1</th>\n",
              "      <th>ORGANIZATION_TYPE_Transport: type 3</th>\n",
              "      <th>ORGANIZATION_TYPE_University</th>\n",
              "      <th>WALLSMATERIAL_MODE_Mixed</th>\n",
              "      <th>COMMUNICATION_TYPE_PUSH</th>\n",
              "    </tr>\n",
              "  </thead>\n",
              "  <tbody>\n",
              "    <tr>\n",
              "      <th>0</th>\n",
              "      <td>-0.576826</td>\n",
              "      <td>-0.300016</td>\n",
              "      <td>-0.369717</td>\n",
              "      <td>0.007297</td>\n",
              "      <td>-0.237377</td>\n",
              "      <td>-0.579955</td>\n",
              "      <td>-0.47426</td>\n",
              "      <td>0.558594</td>\n",
              "      <td>1.542072</td>\n",
              "      <td>-0.065096</td>\n",
              "      <td>...</td>\n",
              "      <td>0</td>\n",
              "      <td>0</td>\n",
              "      <td>0</td>\n",
              "      <td>0</td>\n",
              "      <td>0</td>\n",
              "      <td>0</td>\n",
              "      <td>0</td>\n",
              "      <td>0</td>\n",
              "      <td>0</td>\n",
              "      <td>1</td>\n",
              "    </tr>\n",
              "    <tr>\n",
              "      <th>1</th>\n",
              "      <td>0.804780</td>\n",
              "      <td>0.225010</td>\n",
              "      <td>-0.753393</td>\n",
              "      <td>-1.090716</td>\n",
              "      <td>-0.931573</td>\n",
              "      <td>-0.101438</td>\n",
              "      <td>-0.45729</td>\n",
              "      <td>0.524575</td>\n",
              "      <td>-0.456493</td>\n",
              "      <td>-0.065096</td>\n",
              "      <td>...</td>\n",
              "      <td>0</td>\n",
              "      <td>0</td>\n",
              "      <td>0</td>\n",
              "      <td>0</td>\n",
              "      <td>1</td>\n",
              "      <td>0</td>\n",
              "      <td>0</td>\n",
              "      <td>0</td>\n",
              "      <td>0</td>\n",
              "      <td>0</td>\n",
              "    </tr>\n",
              "  </tbody>\n",
              "</table>\n",
              "<p>2 rows × 50 columns</p>\n",
              "</div>"
            ],
            "text/plain": [
              "   CNT_CHILDREN  AMT_INCOME_TOTAL  AMT_CREDIT  AMT_ANNUITY  AMT_GOODS_PRICE  \\\n",
              "0     -0.576826         -0.300016   -0.369717     0.007297        -0.237377   \n",
              "1      0.804780          0.225010   -0.753393    -1.090716        -0.931573   \n",
              "\n",
              "   DAYS_BIRTH  DAYS_EMPLOYED  DAYS_REGISTRATION  OWN_CAR_AGE  \\\n",
              "0   -0.579955       -0.47426           0.558594     1.542072   \n",
              "1   -0.101438       -0.45729           0.524575    -0.456493   \n",
              "\n",
              "   REGION_RATING_CLIENT_W_CITY  ...  ORGANIZATION_TYPE_Bank  \\\n",
              "0                    -0.065096  ...                       0   \n",
              "1                    -0.065096  ...                       0   \n",
              "\n",
              "   ORGANIZATION_TYPE_Business Entity Type 3  \\\n",
              "0                                         0   \n",
              "1                                         0   \n",
              "\n",
              "   ORGANIZATION_TYPE_Industry: type 5  ORGANIZATION_TYPE_Military  \\\n",
              "0                                   0                           0   \n",
              "1                                   0                           0   \n",
              "\n",
              "   ORGANIZATION_TYPE_Self-employed  ORGANIZATION_TYPE_Trade: type 1  \\\n",
              "0                                0                                0   \n",
              "1                                1                                0   \n",
              "\n",
              "   ORGANIZATION_TYPE_Transport: type 3  ORGANIZATION_TYPE_University  \\\n",
              "0                                    0                             0   \n",
              "1                                    0                             0   \n",
              "\n",
              "   WALLSMATERIAL_MODE_Mixed  COMMUNICATION_TYPE_PUSH  \n",
              "0                         0                        1  \n",
              "1                         0                        0  \n",
              "\n",
              "[2 rows x 50 columns]"
            ]
          },
          "metadata": {
            "tags": []
          },
          "execution_count": 97
        }
      ]
    },
    {
      "cell_type": "code",
      "metadata": {
        "id": "a9Ml9kSBY9ah",
        "colab_type": "code",
        "colab": {},
        "outputId": "4603ece0-9eb5-4b77-e90d-85fca006214f"
      },
      "source": [
        "model = LogisticRegression(\n",
        "    penalty=\"l2\", C=0.001\n",
        ")\n",
        "model.fit(X_train[selected_features], y_train)"
      ],
      "execution_count": null,
      "outputs": [
        {
          "output_type": "execute_result",
          "data": {
            "text/plain": [
              "LogisticRegression(C=0.001, class_weight=None, dual=False, fit_intercept=True,\n",
              "                   intercept_scaling=1, l1_ratio=None, max_iter=100,\n",
              "                   multi_class='auto', n_jobs=None, penalty='l2',\n",
              "                   random_state=None, solver='lbfgs', tol=0.0001, verbose=0,\n",
              "                   warm_start=False)"
            ]
          },
          "metadata": {
            "tags": []
          },
          "execution_count": 98
        }
      ]
    },
    {
      "cell_type": "code",
      "metadata": {
        "id": "Sj0uWA9PY9aj",
        "colab_type": "code",
        "colab": {},
        "outputId": "e654fe34-09cf-462e-b49d-62c75c95034b"
      },
      "source": [
        "y_pred = model.predict_proba(X_valid[selected_features])\n",
        "score = roc_auc_score(y_valid, y_pred[:, 1])\n",
        "\n",
        "print(f\"Baseline score: {round(score, 4)}\")"
      ],
      "execution_count": null,
      "outputs": [
        {
          "output_type": "stream",
          "text": [
            "Baseline score: 0.7245\n"
          ],
          "name": "stdout"
        }
      ]
    },
    {
      "cell_type": "code",
      "metadata": {
        "id": "Vk9ch_E-Y9al",
        "colab_type": "code",
        "colab": {}
      },
      "source": [
        ""
      ],
      "execution_count": null,
      "outputs": []
    }
  ]
}