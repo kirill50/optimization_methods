{
  "nbformat": 4,
  "nbformat_minor": 0,
  "metadata": {
    "kernelspec": {
      "display_name": "Python 3",
      "language": "python",
      "name": "python3"
    },
    "language_info": {
      "codemirror_mode": {
        "name": "ipython",
        "version": 3
      },
      "file_extension": ".py",
      "mimetype": "text/x-python",
      "name": "python",
      "nbconvert_exporter": "python",
      "pygments_lexer": "ipython3",
      "version": "3.7.4"
    },
    "colab": {
      "name": "МО. Генетика. Часть 1.ipynb",
      "provenance": [],
      "collapsed_sections": []
    }
  },
  "cells": [
    {
      "cell_type": "markdown",
      "metadata": {
        "id": "K7XFN947YzaD",
        "colab_type": "text"
      },
      "source": [
        "## Введением\n",
        "\n",
        "__Генетические алгоритмы__ очень похожи на процесс естественного отбора, который был Чарльзом Дарвином. В общем смысле, мы можем понять как работает естественный процесс и как он связан с генетическим алгоритмом, используя следующее описание:\n",
        "\n",
        "* стартуем с начальной популяции, которая будет иметь определенный вид, например такой, как на рисунке\n",
        "\n",
        "<img src=\"https://miro.medium.com/max/1400/1*uqQLuhCeqbfyOyHtPt3Ixg.png\" width=\"400\" height=\"100\">\n",
        "\n",
        "* начальная популяция будет протестирована для понимания того, насколько хороших результатов можно добиться с такой популяцией, оценивать качество работы мы можем с помощью любой классической метрики машинного обучения - accuracy, precision, recall, F1-score, ROC-AUC\n",
        "\n",
        "* основываясь на значениях метрики, мы выберем наиболее успешных родителей (этап \"выживания наиболее приспособленных\")\n",
        "\n",
        "<img src=\"https://miro.medium.com/max/1400/1*9mrDW_6WWBuggN6pGLinwg.png\" width=\"400\" height=\"100\">\n",
        "\n",
        "* проведем спаривание родителей из выжевшей популяции, для производства потомства. Спаривание проводим с помощью двух шагов: кроссовер / рекомбинация и мутация. В случае кроссовера, гены (параметры) от родителей спаривания будут рекомбинированы, чтобы произвести потомство, с каждым ребенком, который наследует некоторые гены (параметры) от каждого родителя.\n",
        "\n",
        "<img src=\"https://miro.medium.com/max/1400/1*h-rR-u4oyCZy39m4v-Pvhg.png\" width=\"400\" height=\"100\">\n",
        "\n",
        "* в случае, мутации, некоторые значения генов (параметров) будут изменены, чтобы сохранить генетическое разнообразие. Это позволяет генетическому алгоритму, обычно, находить наилучшее решение.\n",
        "\n",
        "<img src=\"https://miro.medium.com/max/1400/1*Zlcm1KQCD3Enzx5F1WhufQ.png\" width=\"400\" height=\"100\">\n",
        "\n",
        "* в конечном счете, мы получим такие значения, которые будут содержать часть от выживших родителей (хороший ген), так и детей (новый ген). Мы сохраняем выживших родителей, чтобы сохранить наилучшие параметры физической формы на случай, если ценность физической подготовки потомства окажется хуже, чем у родителей."
      ]
    },
    {
      "cell_type": "markdown",
      "metadata": {
        "id": "4G7_s-AQYzaE",
        "colab_type": "text"
      },
      "source": [
        "## Genetic Algorithm for hyperparams optimization\n",
        "\n",
        "Будем использовать генетический алгоритм для оптимизации гиперпараметров модели XGBoost. XGBoost - одна из наиболее популярных реализацией алгоритма градиентного бустинга, хорошо оптимизированная библиотека, которая обеспечивает высокую эффективность, гибкость и высокую переносимость. \n",
        "\n",
        "## Инициализация\n",
        "\n",
        "Первый шаг генетического алгоритма - инициализация. Шаг, на котором происходит инициализация параметров случайным образом для создания популяции. В результате, мы получим первое поколение популяции, которое изображено на рисунке 1. Будем настраивать следующие параметры XGBoost:\n",
        "* max_depth - максимальная глубина отдельного дерева;\n",
        "* min_child_weight - минимальная сумма весов объектов, необходимая для разбиения дерева;\n",
        "* subsample - доля объектов, которая будет использована для обучения отдельного дерева;\n",
        "* colsample_bytree - доля признаков, которая используется для построения каждого отдельного дерева;\n",
        "* gamma - минимальное значение функции потерь, при котором возможно разбиение в вершине дерева.\n",
        "\n",
        "Подробное описание всех гиперпараметров алгоритма:\n",
        "https://xgboost.readthedocs.io/en/latest/parameter.html"
      ]
    },
    {
      "cell_type": "code",
      "metadata": {
        "id": "thz4sGKHYzaE",
        "colab_type": "code",
        "colab": {}
      },
      "source": [
        "from typing import Dict\n",
        "from copy import deepcopy\n",
        "from tqdm import tqdm\n",
        "\n",
        "import random\n",
        "import numpy as np\n",
        "import pandas as pd\n",
        "import xgboost as xgb\n",
        "\n",
        "from sklearn.metrics import roc_auc_score\n",
        "from sklearn.model_selection import train_test_split\n",
        "from IPython.display import clear_output\n",
        "\n",
        "import seaborn as sns\n",
        "import matplotlib.pyplot as plt"
      ],
      "execution_count": null,
      "outputs": []
    },
    {
      "cell_type": "code",
      "metadata": {
        "id": "Uk7qBxtEYzaH",
        "colab_type": "code",
        "colab": {},
        "outputId": "f91e321d-6787-4739-829c-9e80147f84a4"
      },
      "source": [
        "data = pd.read_csv(\"train.csv\")\n",
        "data = data.sample(50000).reset_index(drop=True)\n",
        "\n",
        "data.head(n=2)"
      ],
      "execution_count": null,
      "outputs": [
        {
          "output_type": "execute_result",
          "data": {
            "text/html": [
              "<div>\n",
              "<style scoped>\n",
              "    .dataframe tbody tr th:only-of-type {\n",
              "        vertical-align: middle;\n",
              "    }\n",
              "\n",
              "    .dataframe tbody tr th {\n",
              "        vertical-align: top;\n",
              "    }\n",
              "\n",
              "    .dataframe thead th {\n",
              "        text-align: right;\n",
              "    }\n",
              "</style>\n",
              "<table border=\"1\" class=\"dataframe\">\n",
              "  <thead>\n",
              "    <tr style=\"text-align: right;\">\n",
              "      <th></th>\n",
              "      <th>SK_ID_CURR</th>\n",
              "      <th>TARGET</th>\n",
              "      <th>NAME_CONTRACT_TYPE</th>\n",
              "      <th>CODE_GENDER</th>\n",
              "      <th>FLAG_OWN_CAR</th>\n",
              "      <th>FLAG_OWN_REALTY</th>\n",
              "      <th>CNT_CHILDREN</th>\n",
              "      <th>AMT_INCOME_TOTAL</th>\n",
              "      <th>AMT_CREDIT</th>\n",
              "      <th>AMT_ANNUITY</th>\n",
              "      <th>...</th>\n",
              "      <th>FLAG_DOCUMENT_19</th>\n",
              "      <th>FLAG_DOCUMENT_20</th>\n",
              "      <th>FLAG_DOCUMENT_21</th>\n",
              "      <th>AMT_REQ_CREDIT_BUREAU_HOUR</th>\n",
              "      <th>AMT_REQ_CREDIT_BUREAU_DAY</th>\n",
              "      <th>AMT_REQ_CREDIT_BUREAU_WEEK</th>\n",
              "      <th>AMT_REQ_CREDIT_BUREAU_MON</th>\n",
              "      <th>AMT_REQ_CREDIT_BUREAU_QRT</th>\n",
              "      <th>AMT_REQ_CREDIT_BUREAU_YEAR</th>\n",
              "      <th>COMMUNICATION_TYPE</th>\n",
              "    </tr>\n",
              "  </thead>\n",
              "  <tbody>\n",
              "    <tr>\n",
              "      <th>0</th>\n",
              "      <td>253123</td>\n",
              "      <td>0</td>\n",
              "      <td>Cash loans</td>\n",
              "      <td>F</td>\n",
              "      <td>N</td>\n",
              "      <td>Y</td>\n",
              "      <td>0</td>\n",
              "      <td>405000.0</td>\n",
              "      <td>1224198.0</td>\n",
              "      <td>35923.5</td>\n",
              "      <td>...</td>\n",
              "      <td>0</td>\n",
              "      <td>0</td>\n",
              "      <td>0</td>\n",
              "      <td>0.0</td>\n",
              "      <td>0.0</td>\n",
              "      <td>0.0</td>\n",
              "      <td>0.0</td>\n",
              "      <td>0.0</td>\n",
              "      <td>2.0</td>\n",
              "      <td>PUSH</td>\n",
              "    </tr>\n",
              "    <tr>\n",
              "      <th>1</th>\n",
              "      <td>316861</td>\n",
              "      <td>0</td>\n",
              "      <td>Cash loans</td>\n",
              "      <td>F</td>\n",
              "      <td>N</td>\n",
              "      <td>Y</td>\n",
              "      <td>0</td>\n",
              "      <td>157500.0</td>\n",
              "      <td>225000.0</td>\n",
              "      <td>24363.0</td>\n",
              "      <td>...</td>\n",
              "      <td>0</td>\n",
              "      <td>0</td>\n",
              "      <td>0</td>\n",
              "      <td>0.0</td>\n",
              "      <td>0.0</td>\n",
              "      <td>0.0</td>\n",
              "      <td>1.0</td>\n",
              "      <td>0.0</td>\n",
              "      <td>2.0</td>\n",
              "      <td>PUSH</td>\n",
              "    </tr>\n",
              "  </tbody>\n",
              "</table>\n",
              "<p>2 rows × 122 columns</p>\n",
              "</div>"
            ],
            "text/plain": [
              "   SK_ID_CURR  TARGET NAME_CONTRACT_TYPE CODE_GENDER FLAG_OWN_CAR  \\\n",
              "0      253123       0         Cash loans           F            N   \n",
              "1      316861       0         Cash loans           F            N   \n",
              "\n",
              "  FLAG_OWN_REALTY  CNT_CHILDREN  AMT_INCOME_TOTAL  AMT_CREDIT  AMT_ANNUITY  \\\n",
              "0               Y             0          405000.0   1224198.0      35923.5   \n",
              "1               Y             0          157500.0    225000.0      24363.0   \n",
              "\n",
              "   ...  FLAG_DOCUMENT_19 FLAG_DOCUMENT_20 FLAG_DOCUMENT_21  \\\n",
              "0  ...                 0                0                0   \n",
              "1  ...                 0                0                0   \n",
              "\n",
              "  AMT_REQ_CREDIT_BUREAU_HOUR AMT_REQ_CREDIT_BUREAU_DAY  \\\n",
              "0                        0.0                       0.0   \n",
              "1                        0.0                       0.0   \n",
              "\n",
              "  AMT_REQ_CREDIT_BUREAU_WEEK  AMT_REQ_CREDIT_BUREAU_MON  \\\n",
              "0                        0.0                        0.0   \n",
              "1                        0.0                        1.0   \n",
              "\n",
              "   AMT_REQ_CREDIT_BUREAU_QRT  AMT_REQ_CREDIT_BUREAU_YEAR  COMMUNICATION_TYPE  \n",
              "0                        0.0                         2.0                PUSH  \n",
              "1                        0.0                         2.0                PUSH  \n",
              "\n",
              "[2 rows x 122 columns]"
            ]
          },
          "metadata": {
            "tags": []
          },
          "execution_count": 2
        }
      ]
    },
    {
      "cell_type": "code",
      "metadata": {
        "id": "4jzg5Ay7YzaK",
        "colab_type": "code",
        "colab": {}
      },
      "source": [
        "x_train, x_valid = train_test_split(\n",
        "    data, train_size=15000, random_state=1\n",
        ")\n",
        "x_train = x_train.reset_index(drop=True)\n",
        "x_valud = x_valid.reset_index(drop=True)\n",
        "\n",
        "y_train, y_valid = x_train[\"TARGET\"], x_valid[\"TARGET\"]"
      ],
      "execution_count": null,
      "outputs": []
    },
    {
      "cell_type": "code",
      "metadata": {
        "id": "srdfQ1ljYzaN",
        "colab_type": "code",
        "colab": {}
      },
      "source": [
        "def init_population(number_of_parents: int) -> Dict[str, np.array]:\n",
        "    \"\"\"\n",
        "    Инициализация начальной популяции генетического алгоритма.\n",
        "\n",
        "    Parameters\n",
        "    ----------\n",
        "    number_of_parents: int\n",
        "        Количество родителей в популяции.\n",
        "\n",
        "    Returns\n",
        "    -------\n",
        "    population: dict, Dict[str, np.array]\n",
        "        Словарь с начальной популяцией.\n",
        "\n",
        "    \"\"\"\n",
        "    population = {\n",
        "        \"max_depth\": np.empty([number_of_parents, 1], dtype=np.uint8),\n",
        "        \"min_child_weight\": np.empty([number_of_parents, 1], dtype=np.uint8),\n",
        "        \"subsample\": np.empty([number_of_parents, 1]),\n",
        "        \"colsample_bytree\": np.empty([number_of_parents, 1]),\n",
        "        \"gamma\": np.empty([number_of_parents, 1])\n",
        "    }\n",
        "\n",
        "    for i in range(number_of_parents):\n",
        "        population[\"max_depth\"][i] = round(\n",
        "            random.randrange(1, 10, step=1)\n",
        "        )\n",
        "        population[\"min_child_weight\"][i] = round(\n",
        "            random.uniform(0.01, 10), 2\n",
        "        )\n",
        "        population[\"subsample\"][i] = round(\n",
        "            random.uniform(0.01, 1), 2\n",
        "        )\n",
        "        population[\"colsample_bytree\"][i] = round(\n",
        "            random.uniform(0.01, 1), 2\n",
        "        )\n",
        "        population[\"gamma\"][i] = round(\n",
        "            random.uniform(0.01, 10), 2\n",
        "        )\n",
        "    return population"
      ],
      "execution_count": null,
      "outputs": []
    },
    {
      "cell_type": "markdown",
      "metadata": {
        "id": "zVmEwThkYzaP",
        "colab_type": "text"
      },
      "source": [
        "Ограничения на значения параметры наложены из рекомендаций документации XGBoost, либо на основании разумных предположений о возможном значении параметров."
      ]
    },
    {
      "cell_type": "markdown",
      "metadata": {
        "id": "OWtF1jT6YzaQ",
        "colab_type": "text"
      },
      "source": [
        "## Селеция или отбор родителей\n",
        "\n",
        "Второй шаг, обучим модель с использованием начальной популяции и вычислим значением метрики качества, будем использовать метрику ROC-AUC."
      ]
    },
    {
      "cell_type": "code",
      "metadata": {
        "id": "EhclJZyaYzaQ",
        "colab_type": "code",
        "colab": {}
      },
      "source": [
        "def train_population(population,\n",
        "                     xgb_train: xgb.DMatrix,\n",
        "                     xgb_valid: xgb.DMatrix,\n",
        "                     y_valid: pd.Series\n",
        "                     ):\n",
        "    \"\"\"\n",
        "    Обучение модели на каждом значении population.\n",
        "    После обучения модели, производится оценка качества\n",
        "    модели с помощью метрики ROC-AUC на данных xgb_valid.\n",
        "\n",
        "    Parameters\n",
        "    ----------\n",
        "    population: numpy.array\n",
        "        Матрица с текущим значением популяции.\n",
        "\n",
        "    xgb_train: xgb.DMatrix\n",
        "        Выборка для обучения модели, в формате xgboost.DMatrix.\n",
        "\n",
        "    xgb_valid: xgb.DMatrix\n",
        "        Выборка для тестирования модели, в формате xgboost.DMatrix.\n",
        "\n",
        "    y_valid: pd.Series\n",
        "        Значение целевой переменной для тестирования модели.\n",
        "\n",
        "    Returns\n",
        "    -------\n",
        "    scores: List[float]\n",
        "        Список со значеним метрик качества.\n",
        "\n",
        "    \"\"\"\n",
        "    scores = []\n",
        "    for i in range(population.shape[0]):\n",
        "        xgb_params = {\n",
        "            \"booster\": \"gbtree\",\n",
        "            \"objective\": \"binary:logistic\",\n",
        "            \"learning_rate\": 0.1,\n",
        "            \"max_depth\": int(population[i][0]),\n",
        "            \"min_child_weight\": population[i][1],\n",
        "            \"subsample\": population[i][2],\n",
        "            \"colsample_bytree\": population[i][3],\n",
        "            \"gamma\": population[i][4],\n",
        "            \"eval_metric\": \"auc\",\n",
        "            \"nthread\": 6,\n",
        "            \"seed\": 27\n",
        "        }\n",
        "        model = xgb.train(\n",
        "            params=xgb_params,\n",
        "            dtrain=xgb_train,\n",
        "            evals=[(xgb_train, \"train\"), (xgb_valid, \"valid\")],\n",
        "            early_stopping_rounds=50,\n",
        "            num_boost_round=1000,\n",
        "            verbose_eval=25,\n",
        "        )\n",
        "        y_pred = model.predict(xgb_valid)\n",
        "        score = roc_auc_score(y_valid, y_pred)\n",
        "        scores.append(score)\n",
        "        print(\"=\"*84)\n",
        "\n",
        "    return scores"
      ],
      "execution_count": null,
      "outputs": []
    },
    {
      "cell_type": "code",
      "metadata": {
        "id": "T8xSjrkCYzaS",
        "colab_type": "code",
        "colab": {}
      },
      "source": [
        "num_features = x_train.select_dtypes(exclude=[\"object\"]).columns\n",
        "x_train, x_valid = x_train[num_features], x_valid[num_features]\n",
        "\n",
        "to_drop = [\"SK_ID_CURR\", \"TARGET\"]\n",
        "x_train = x_train.drop(to_drop, axis=1)\n",
        "x_valid = x_valid.drop(to_drop, axis=1)"
      ],
      "execution_count": null,
      "outputs": []
    },
    {
      "cell_type": "code",
      "metadata": {
        "id": "BEDXoD4NYzaV",
        "colab_type": "code",
        "colab": {}
      },
      "source": [
        "xgb_train = xgb.DMatrix(\n",
        "    data=x_train, label=y_train\n",
        ")\n",
        "xgb_valid = xgb.DMatrix(\n",
        "    data=x_valid, label=y_valid\n",
        ")"
      ],
      "execution_count": null,
      "outputs": []
    },
    {
      "cell_type": "markdown",
      "metadata": {
        "id": "4fDB_c6WYzaX",
        "colab_type": "text"
      },
      "source": [
        "Определим, сколько родителей мы хотели бы выбрать, и создадим массив с выбранными родителями, основываясь на значениях метрики качества."
      ]
    },
    {
      "cell_type": "code",
      "metadata": {
        "id": "4p8ABKeLYzaX",
        "colab_type": "code",
        "colab": {}
      },
      "source": [
        "def select_new_parents(population: np.array, scores: list, num_parents: int):\n",
        "    \"\"\"\n",
        "    Выбор оптимальный параметров популяции на основе\n",
        "    значений метрики качества ROC-AUC.\n",
        "\n",
        "    Parameters\n",
        "    ----------\n",
        "    population: np.array\n",
        "        Матрица с текущим значением популяции.\n",
        "\n",
        "    scores: List[float]\n",
        "        Список со значениями метрики качества.\n",
        "\n",
        "    num_parents: int\n",
        "        Количество родителей, которые требуется отобрать.\n",
        "\n",
        "    Returns\n",
        "    -------\n",
        "    selected_parents: np.array\n",
        "        Значение популяции, отобранное на основе метрики качества.\n",
        "\n",
        "    \"\"\"\n",
        "    scores = deepcopy(scores)\n",
        "    selected_parents = np.empty((\n",
        "        num_parents, population.shape[1]\n",
        "    ))\n",
        "\n",
        "    for parent_id in range(num_parents):\n",
        "        best_result_id = np.where(scores == np.max(scores))\n",
        "        best_result_id = best_result_id[0][0]\n",
        "\n",
        "        selected_parents[parent_id, :] = population[best_result_id, :]\n",
        "        scores[best_result_id] = -1\n",
        "\n",
        "    return selected_parents"
      ],
      "execution_count": null,
      "outputs": []
    },
    {
      "cell_type": "markdown",
      "metadata": {
        "id": "lSZ-yOOvYzaZ",
        "colab_type": "text"
      },
      "source": [
        "## Crossover\n",
        "\n",
        "Существуют различные методы определения пересечения в случае генетических алгоритмов, такие как одноточечный, двухточечный и k-точечный кроссовер, равномерный кроссовер и кроссовер для упорядоченных списков. Мы будем использовать единый кроссовер, где каждый параметр для ребенка (нового объекта популяции) будет независимо выбираться из родителей на основе определенного распределения. В нашем случае, мы будем использовать дискретное равномерное распределение из numpy.random."
      ]
    },
    {
      "cell_type": "code",
      "metadata": {
        "id": "FTEWIqeJYzaa",
        "colab_type": "code",
        "colab": {}
      },
      "source": [
        "def crossover_uniform(parents, children_size):\n",
        "    \"\"\"\n",
        "    \n",
        "    \"\"\"\n",
        "    idx_1 = np.arange(\n",
        "        0, np.uint8(children_size[1]), 1, dtype=np.uint8\n",
        "    )\n",
        "    idx_2 = np.random.randint(\n",
        "        0, np.uint8(children_size[1]), np.uint(children_size[1]/2)\n",
        "    )\n",
        "    idx_3 = np.array(\n",
        "        list(set(idx_1) - set(idx_2))\n",
        "    )\n",
        "    children = np.empty(children_size)\n",
        "\n",
        "    for i in range(children_size[0]):\n",
        "        parent1_idx = i % parents.shape[0]\n",
        "        parent2_idx = (i+1) % parents.shape[0]\n",
        "\n",
        "        children[i, idx_2] = parents[parent1_idx, idx_2]\n",
        "        children[i, idx_3] = parents[parent2_idx, idx_3]\n",
        "\n",
        "    return children"
      ],
      "execution_count": null,
      "outputs": []
    },
    {
      "cell_type": "markdown",
      "metadata": {
        "id": "nEx-GbQ3Yzac",
        "colab_type": "text"
      },
      "source": [
        "## Мутация\n",
        "\n",
        "Последним шагом будет разнообразное построение потомков путем случайного выбора одного из параметров и изменения его на случайную величину. Мы также введем некоторые ограничения, чтобы ограничить измененные значения в определенном диапазоне. Пропуск этих ограничений может привести к возникновению ошибки."
      ]
    },
    {
      "cell_type": "code",
      "metadata": {
        "id": "sdgUouoEYzac",
        "colab_type": "code",
        "colab": {}
      },
      "source": [
        "def mutation(crossover, number_of_parameters):\n",
        "    \"\"\"\n",
        "    Мутация объектов популяции, получение новых значений\n",
        "    гиперпараметров для проверки гипотезы о повышении качества\n",
        "    работы модели.\n",
        "\n",
        "    Parameters\n",
        "    ----------\n",
        "    crossover: np.array\n",
        "        Исходные объекты популяции.\n",
        "\n",
        "    number_of_parameters: int\n",
        "        Количество параметров.\n",
        "\n",
        "    Returns\n",
        "    -------\n",
        "    crossover: np.array\n",
        "        Мутированные объекты популяции.\n",
        "\n",
        "    \"\"\"\n",
        "    min_max_values = np.zeros((number_of_parameters, 2))\n",
        "\n",
        "    min_max_values[0, :] = [1, 15] # ограничение для max_depth\n",
        "    min_max_values[1, :] = [0, 10] # ограничение для min_child_weight\n",
        "    min_max_values[2, :] = [0.01, 1] # ограничение для subsample\n",
        "    min_max_values[3, :] = [0.01, 1] # ограничение для colsample_bytree\n",
        "    min_max_values[4, :] = [0.01, 10] # ограничение для gamma\n",
        "    parameter_selected = np.random.randint(0, 5, 1)\n",
        "\n",
        "    if parameter_selected == 0:\n",
        "        mutation_value = np.random.randint(-5, 5, 1)\n",
        "    elif parameter_selected == 1:\n",
        "        mutation_value = round(np.random.uniform(5, 5), 2)\n",
        "    elif parameter_selected == 2:\n",
        "        mutation_value = round(np.random.uniform(-0.5, 0.5), 2)\n",
        "    elif parameter_selected == 3:\n",
        "        mutation_value = round(np.random.uniform(-0.5, 0.5), 2)\n",
        "    elif parameter_selected == 4:\n",
        "        mutation_value = round(np.random.uniform(-2, 2), 2)\n",
        "\n",
        "    for idx in range(crossover.shape[0]):\n",
        "        crossover[idx, parameter_selected] = crossover[idx, parameter_selected] + mutation_value\n",
        "        if crossover[idx, parameter_selected] > min_max_values[parameter_selected, 1]:\n",
        "            crossover[idx, parameter_selected] = min_max_values[parameter_selected, 1]\n",
        "        else:\n",
        "            crossover[idx, parameter_selected] = min_max_values[parameter_selected, 0]\n",
        "\n",
        "    return crossover"
      ],
      "execution_count": null,
      "outputs": []
    },
    {
      "cell_type": "markdown",
      "metadata": {
        "id": "DOVGGEXQYzae",
        "colab_type": "text"
      },
      "source": [
        "## Вычислительный эксперимент"
      ]
    },
    {
      "cell_type": "code",
      "metadata": {
        "id": "wMk2Z5rxYzaf",
        "colab_type": "code",
        "colab": {}
      },
      "source": [
        "number_of_parents = 8\n",
        "number_of_parents_mating = 4\n",
        "number_of_parameters = 5\n",
        "number_of_generation = 6\n",
        "\n",
        "population_size = (number_of_parents, number_of_parameters)\n",
        "scores_history = np.empty([number_of_generation+1, number_of_parents])\n",
        "\n",
        "params_history = np.empty([(number_of_generation+1) * number_of_parents, number_of_parameters])"
      ],
      "execution_count": null,
      "outputs": []
    },
    {
      "cell_type": "code",
      "metadata": {
        "id": "2iS30UooYzah",
        "colab_type": "code",
        "colab": {}
      },
      "source": [
        "population = init_population(number_of_parents)\n",
        "\n",
        "population = np.concatenate((\n",
        "    population[\"max_depth\"],\n",
        "    population[\"min_child_weight\"],\n",
        "    population[\"subsample\"],\n",
        "    population[\"colsample_bytree\"],\n",
        "    population[\"gamma\"]), axis=1)\n",
        "\n",
        "params_history[0:number_of_parents, :] = population"
      ],
      "execution_count": null,
      "outputs": []
    },
    {
      "cell_type": "code",
      "metadata": {
        "id": "VE-w5vmVYzaj",
        "colab_type": "code",
        "colab": {},
        "outputId": "7a58c0d7-f655-4cfd-915e-e8039189b8f2"
      },
      "source": [
        "for generation in tqdm(range(number_of_generation)):\n",
        "    best_score, mean_score = np.max(scores_history), np.mean(scores_history)\n",
        "    print(f\"All-history: Best ROC-AUC = {round(best_score, 4)}, Mean ROC-AUC = {round(mean_score, 4)}\")\n",
        "\n",
        "    scores = train_population(\n",
        "        population=population,\n",
        "        xgb_train=xgb_train,\n",
        "        xgb_valid=xgb_valid,\n",
        "       y_valid=y_valid)\n",
        "\n",
        "    scores_history[generation, :] = scores\n",
        "\n",
        "    parents = select_new_parents(\n",
        "        population=population,\n",
        "        scores=scores,\n",
        "        num_parents=4)\n",
        "\n",
        "    children = crossover_uniform(\n",
        "        parents=parents,\n",
        "        children_size=(population_size[0] - parents.shape[0], 5)\n",
        "    )\n",
        "    children_mutated = mutation(children, number_of_parameters=5)\n",
        "    population[0:parents.shape[0], :] = parents\n",
        "    population[parents.shape[0]:, :] = children_mutated\n",
        "\n",
        "    params_history[(generation+1)*8 : (generation+1)*8+8 , :] = population\n",
        "    clear_output()\n",
        "\n",
        "scores_history = pd.DataFrame(scores_history)\n",
        "scores_history = scores_history.loc[:5]"
      ],
      "execution_count": null,
      "outputs": [
        {
          "output_type": "stream",
          "text": [
            "\n",
            "100%|██████████| 6/6 [08:27<00:00, 84.56s/it]\u001b[A\n"
          ],
          "name": "stderr"
        }
      ]
    },
    {
      "cell_type": "code",
      "metadata": {
        "id": "xy9TrK2-Yzal",
        "colab_type": "code",
        "colab": {},
        "outputId": "7af141f0-4cb8-4c94-d6e3-ace6e609b707"
      },
      "source": [
        "fig, axes = plt.subplots(1, 1, figsize=(10, 8))\n",
        "sns.heatmap(scores_history, annot=True, fmt='.4g', linewidths=1, ax=axes)"
      ],
      "execution_count": null,
      "outputs": [
        {
          "output_type": "execute_result",
          "data": {
            "text/plain": [
              "<matplotlib.axes._subplots.AxesSubplot at 0x7fb7d513c890>"
            ]
          },
          "metadata": {
            "tags": []
          },
          "execution_count": 44
        },
        {
          "output_type": "display_data",
          "data": {
            "image/png": "[encoded data removed]",
            "text/plain": [
              "<Figure size 720x576 with 2 Axes>"
            ]
          },
          "metadata": {
            "tags": [],
            "needs_background": "light"
          }
        }
      ]
    },
    {
      "cell_type": "code",
      "metadata": {
        "id": "UjU5kga4Yzao",
        "colab_type": "code",
        "colab": {}
      },
      "source": [
        ""
      ],
      "execution_count": null,
      "outputs": []
    }
  ]
}